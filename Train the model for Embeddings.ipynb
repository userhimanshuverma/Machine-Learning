{
  "nbformat": 4,
  "nbformat_minor": 0,
  "metadata": {
    "colab": {
      "provenance": []
    },
    "kernelspec": {
      "name": "python3",
      "display_name": "Python 3"
    },
    "language_info": {
      "name": "python"
    }
  },
  "cells": [
    {
      "cell_type": "code",
      "execution_count": 1,
      "metadata": {
        "id": "In0Ouo72hVqJ"
      },
      "outputs": [],
      "source": [
        "import tensorflow as tf\n",
        "print (tf.__version__)"
      ]
    },
    {
      "cell_type": "code",
      "source": [
        "import nltk \n",
        "nltk.download('punkt')"
      ],
      "metadata": {
        "colab": {
          "base_uri": "https://localhost:8080/"
        },
        "id": "P9kVVA34haYS",
        "outputId": "a3f688f7-6846-4eb3-fec8-00a89addf4c7"
      },
      "execution_count": 3,
      "outputs": [
        {
          "output_type": "stream",
          "name": "stderr",
          "text": [
            "[nltk_data] Downloading package punkt to /root/nltk_data...\n",
            "[nltk_data]   Unzipping tokenizers/punkt.zip.\n"
          ]
        },
        {
          "output_type": "execute_result",
          "data": {
            "text/plain": [
              "True"
            ]
          },
          "metadata": {},
          "execution_count": 3
        }
      ]
    },
    {
      "cell_type": "code",
      "source": [
        "import nltk\n",
        "import pandas as pd\n",
        "import gensim\n",
        "from gensim.models import Word2Vec, KeyedVectors"
      ],
      "metadata": {
        "id": "R3j3uuOWhlw0"
      },
      "execution_count": 4,
      "outputs": []
    },
    {
      "cell_type": "code",
      "source": [
        "! pip install -q kaggle"
      ],
      "metadata": {
        "id": "HU4S9eRXhzKD"
      },
      "execution_count": 5,
      "outputs": []
    },
    {
      "cell_type": "code",
      "source": [
        "!mkdir -p ~/.kaggle"
      ],
      "metadata": {
        "id": "QpACWQUJiBUy"
      },
      "execution_count": 6,
      "outputs": []
    },
    {
      "cell_type": "code",
      "source": [
        "! cp kaggle.json ~/.kaggle"
      ],
      "metadata": {
        "id": "H_I3ZRHPiYP0"
      },
      "execution_count": 7,
      "outputs": []
    },
    {
      "cell_type": "code",
      "source": [
        "!chmod 600 /root/.kaggle/kaggle.json"
      ],
      "metadata": {
        "id": "3SVbSVM0igyy"
      },
      "execution_count": 8,
      "outputs": []
    },
    {
      "cell_type": "code",
      "source": [
        "!kaggle datasets download -d rootuser/worldnews-on-reddit"
      ],
      "metadata": {
        "colab": {
          "base_uri": "https://localhost:8080/"
        },
        "id": "GqF1cA0Cisc_",
        "outputId": "c2f43742-aa8c-4fd1-b3f4-2624e8e85724"
      },
      "execution_count": 9,
      "outputs": [
        {
          "output_type": "stream",
          "name": "stdout",
          "text": [
            "Downloading worldnews-on-reddit.zip to /content\n",
            " 68% 18.0M/26.6M [00:00<00:00, 77.4MB/s]\n",
            "100% 26.6M/26.6M [00:00<00:00, 90.9MB/s]\n"
          ]
        }
      ]
    },
    {
      "cell_type": "code",
      "source": [
        "!unzip /content/worldnews-on-reddit"
      ],
      "metadata": {
        "colab": {
          "base_uri": "https://localhost:8080/"
        },
        "id": "BOaW6sNTi0W_",
        "outputId": "61449bc7-d7ea-4634-e23b-6fb09b06f562"
      },
      "execution_count": 10,
      "outputs": [
        {
          "output_type": "stream",
          "name": "stdout",
          "text": [
            "Archive:  /content/worldnews-on-reddit.zip\n",
            "  inflating: reddit_worldnews_start_to_2016-11-22.csv  \n"
          ]
        }
      ]
    },
    {
      "cell_type": "code",
      "source": [
        "df= pd.read_csv('/content/reddit_worldnews_start_to_2016-11-22.csv')"
      ],
      "metadata": {
        "id": "i2CPRac2i-qe"
      },
      "execution_count": 11,
      "outputs": []
    },
    {
      "cell_type": "code",
      "source": [
        "news_titles = df['title'].values"
      ],
      "metadata": {
        "id": "qX9kzYVpjNXn"
      },
      "execution_count": 12,
      "outputs": []
    },
    {
      "cell_type": "code",
      "source": [
        "news_titles"
      ],
      "metadata": {
        "colab": {
          "base_uri": "https://localhost:8080/"
        },
        "id": "0sHuBeM2jUDa",
        "outputId": "2d7cfe50-c669-47f6-eb96-ebeaf3b184a0"
      },
      "execution_count": 13,
      "outputs": [
        {
          "output_type": "execute_result",
          "data": {
            "text/plain": [
              "array(['Scores killed in Pakistan clashes',\n",
              "       'Japan resumes refuelling mission',\n",
              "       'US presses Egypt on Gaza border', ...,\n",
              "       'Professor receives Arab Researchers Award',\n",
              "       'Nigel Farage attacks response to Trump ambassador tweet',\n",
              "       'Palestinian wielding knife shot dead in West Bank: Israel police'],\n",
              "      dtype=object)"
            ]
          },
          "metadata": {},
          "execution_count": 13
        }
      ]
    },
    {
      "cell_type": "code",
      "source": [
        "new_vec = [nltk.word_tokenize(title) for title in news_titles]"
      ],
      "metadata": {
        "id": "ayNj9u_0jVgQ"
      },
      "execution_count": 14,
      "outputs": []
    },
    {
      "cell_type": "code",
      "source": [
        "new_vec[0]"
      ],
      "metadata": {
        "colab": {
          "base_uri": "https://localhost:8080/"
        },
        "id": "40u1z0knkHvl",
        "outputId": "1cdf1052-18ec-4bbc-fff2-a3dd2c7c9867"
      },
      "execution_count": 16,
      "outputs": [
        {
          "output_type": "execute_result",
          "data": {
            "text/plain": [
              "['Scores', 'killed', 'in', 'Pakistan', 'clashes']"
            ]
          },
          "metadata": {},
          "execution_count": 16
        }
      ]
    },
    {
      "cell_type": "markdown",
      "source": [
        "BUILD THE MODEL"
      ],
      "metadata": {
        "id": "RGzZYHxyknFs"
      }
    },
    {
      "cell_type": "code",
      "source": [
        "model = Word2Vec(new_vec,min_count=1,size=32)"
      ],
      "metadata": {
        "id": "6oaQM_tYjdIX"
      },
      "execution_count": 15,
      "outputs": []
    },
    {
      "cell_type": "markdown",
      "source": [
        "PREDICT THE OUTPUT"
      ],
      "metadata": {
        "id": "jEB5xwmmkpb8"
      }
    },
    {
      "cell_type": "code",
      "source": [
        "model.wv.most_similar('man')"
      ],
      "metadata": {
        "colab": {
          "base_uri": "https://localhost:8080/"
        },
        "id": "u72szLncj_gs",
        "outputId": "bf2c6c2e-fef3-463b-ab69-4d86f52fb0bf"
      },
      "execution_count": 17,
      "outputs": [
        {
          "output_type": "execute_result",
          "data": {
            "text/plain": [
              "[('woman', 0.9666846394538879),\n",
              " ('boy', 0.9013697504997253),\n",
              " ('girl', 0.8991401195526123),\n",
              " ('mother', 0.8953438401222229),\n",
              " ('couple', 0.8828802108764648),\n",
              " ('doctor', 0.8801858425140381),\n",
              " ('teenager', 0.8649494647979736),\n",
              " ('father', 0.8451358675956726),\n",
              " ('teacher', 0.8442021012306213),\n",
              " ('family', 0.8432894945144653)]"
            ]
          },
          "metadata": {},
          "execution_count": 17
        }
      ]
    },
    {
      "cell_type": "code",
      "source": [
        "model.wv['man']"
      ],
      "metadata": {
        "colab": {
          "base_uri": "https://localhost:8080/"
        },
        "id": "wHliDAjhkcXo",
        "outputId": "083b6aaf-ef17-4f29-9a38-aa6d0802e180"
      },
      "execution_count": 18,
      "outputs": [
        {
          "output_type": "execute_result",
          "data": {
            "text/plain": [
              "array([ 1.8014858 , -3.4400535 , -0.37175044,  0.34203973,  3.144261  ,\n",
              "        0.4927173 ,  4.7862463 ,  0.20429233, -0.09292711,  0.915557  ,\n",
              "       -0.2175194 , -2.882224  , -0.41129085,  1.0884528 ,  5.437409  ,\n",
              "       -2.747652  , -4.8348584 , -0.22319776, -3.4799156 , -0.98499   ,\n",
              "       -2.4332674 ,  0.1044902 , -0.5132281 , -0.6099032 ,  0.6515837 ,\n",
              "        2.3627915 , -2.2741866 ,  0.5853518 ,  2.053552  ,  2.3608816 ,\n",
              "        8.359206  , -1.9578875 ], dtype=float32)"
            ]
          },
          "metadata": {},
          "execution_count": 18
        }
      ]
    },
    {
      "cell_type": "code",
      "source": [
        "vec = model.wv['king'] - model.wv['man'] + model.wv['women']\n",
        "model.wv.most_similar([vec])"
      ],
      "metadata": {
        "colab": {
          "base_uri": "https://localhost:8080/"
        },
        "id": "ctiLAgh_ku4y",
        "outputId": "98794661-8dd4-4220-f885-4d1a2ec4bf40"
      },
      "execution_count": 19,
      "outputs": [
        {
          "output_type": "execute_result",
          "data": {
            "text/plain": [
              "[('minorities', 0.6861289739608765),\n",
              " ('Muslims', 0.680817723274231),\n",
              " ('parties', 0.6738224029541016),\n",
              " ('women', 0.6728633046150208),\n",
              " ('clerics', 0.6721783876419067),\n",
              " ('unions', 0.6529954075813293),\n",
              " ('equality', 0.6350898146629333),\n",
              " ('freedoms', 0.6319420337677002),\n",
              " ('religious', 0.6302478313446045),\n",
              " ('groups', 0.629528820514679)]"
            ]
          },
          "metadata": {},
          "execution_count": 19
        }
      ]
    },
    {
      "cell_type": "code",
      "source": [
        "vec = model.wv['Germany'] - model.wv['Berlin'] + model.wv['Paris']\n",
        "model.wv.most_similar([vec])"
      ],
      "metadata": {
        "colab": {
          "base_uri": "https://localhost:8080/"
        },
        "id": "VboOqwMZlWyp",
        "outputId": "5ce9ffc2-0b4b-4785-dcb2-30ad915fd07f"
      },
      "execution_count": 20,
      "outputs": [
        {
          "output_type": "execute_result",
          "data": {
            "text/plain": [
              "[('Belgium', 0.8617050051689148),\n",
              " ('France', 0.843691349029541),\n",
              " ('Paris', 0.8319962024688721),\n",
              " ('Germany', 0.8228591680526733),\n",
              " ('Brussels', 0.787714958190918),\n",
              " ('Sweden', 0.7553232908248901),\n",
              " ('Britain', 0.7546886801719666),\n",
              " ('UK', 0.7501816749572754),\n",
              " ('Switzerland', 0.7032061815261841),\n",
              " ('Austria', 0.6848229169845581)]"
            ]
          },
          "metadata": {},
          "execution_count": 20
        }
      ]
    },
    {
      "cell_type": "code",
      "source": [
        "vec = model.wv['Messi'] - model.wv['Football'] + model.wv['Cricket']\n",
        "model.wv.most_similar([vec])"
      ],
      "metadata": {
        "colab": {
          "base_uri": "https://localhost:8080/"
        },
        "id": "s6suz3Gnlgs0",
        "outputId": "9eb7d205-46ec-4180-cf37-749720e39beb"
      },
      "execution_count": 23,
      "outputs": [
        {
          "output_type": "execute_result",
          "data": {
            "text/plain": [
              "[('Dutch-Iranian', 0.7745465636253357),\n",
              " ('undergoes', 0.7602274417877197),\n",
              " ('nuke-proof', 0.742939293384552),\n",
              " ('Sex-change', 0.7384316921234131),\n",
              " ('becouse', 0.7381566762924194),\n",
              " ('sawed', 0.7307825684547424),\n",
              " ('now-deposed', 0.7239574193954468),\n",
              " ('PAL', 0.7236514091491699),\n",
              " ('saucepan', 0.7220029234886169),\n",
              " ('Bhayani', 0.721542239189148)]"
            ]
          },
          "metadata": {},
          "execution_count": 23
        }
      ]
    },
    {
      "cell_type": "code",
      "source": [],
      "metadata": {
        "id": "WgFffdZClovl"
      },
      "execution_count": null,
      "outputs": []
    }
  ]
}